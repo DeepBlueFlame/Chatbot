{
 "cells": [
  {
   "cell_type": "code",
   "execution_count": 77,
   "metadata": {},
   "outputs": [],
   "source": [
    "import os"
   ]
  },
  {
   "cell_type": "markdown",
   "metadata": {},
   "source": [
    "## Dataset Loading"
   ]
  },
  {
   "cell_type": "markdown",
   "metadata": {},
   "source": [
    "### Show first five lines in the moviequotes.scripts.txt file"
   ]
  },
  {
   "cell_type": "code",
   "execution_count": 78,
   "metadata": {},
   "outputs": [],
   "source": [
    "first_five_lines = []\n",
    "\n",
    "with open('data/moviequotes.scripts.txt', 'r', encoding='iso-8859-1') as f:\n",
    "    counter = 0\n",
    "    for i, line in enumerate(f):\n",
    "        if counter > 4:\n",
    "            break\n",
    "        first_five_lines.append(line)\n",
    "        counter += 1"
   ]
  },
  {
   "cell_type": "code",
   "execution_count": 79,
   "metadata": {},
   "outputs": [
    {
     "data": {
      "text/plain": [
       "['0 +++$+++ \"murderland\" +++$+++ 1 +++$+++ announcer +++$+++  +++$+++ Ladies and gentlemen, the official mascot of Murderland.... Scraps the Dog !\\n',\n",
       " '1 +++$+++ \"murderland\" +++$+++ 2 +++$+++ announcer +++$+++  +++$+++ Choose the doorway that starts you on your magical journey into  MURDERLAND !\\n',\n",
       " '2 +++$+++ \"murderland\" +++$+++ 3 +++$+++ johnny +++$+++  +++$+++ I didn\\'t think he\\'d make it past Scraps.\\n',\n",
       " '3 +++$+++ \"murderland\" +++$+++ 4 +++$+++ bruce +++$+++ 2 +++$+++ Let\\'s just see if he can make it into round two....\\n',\n",
       " '4 +++$+++ \"murderland\" +++$+++ 5 +++$+++ bruce +++$+++  +++$+++ Don\\'t.\\n']"
      ]
     },
     "execution_count": 79,
     "metadata": {},
     "output_type": "execute_result"
    }
   ],
   "source": [
    "first_five_lines"
   ]
  },
  {
   "cell_type": "code",
   "execution_count": 80,
   "metadata": {},
   "outputs": [],
   "source": [
    "# Split each line with the chars string '+++$+++'\n",
    "values_in_first_five_lines = []\n",
    "for line in first_five_lines:\n",
    "    values_in_first_five_lines.append(line.split(\" +++$+++ \"))"
   ]
  },
  {
   "cell_type": "code",
   "execution_count": 81,
   "metadata": {},
   "outputs": [
    {
     "data": {
      "text/plain": [
       "[['0',\n",
       "  '\"murderland\"',\n",
       "  '1',\n",
       "  'announcer',\n",
       "  '',\n",
       "  'Ladies and gentlemen, the official mascot of Murderland.... Scraps the Dog !\\n'],\n",
       " ['1',\n",
       "  '\"murderland\"',\n",
       "  '2',\n",
       "  'announcer',\n",
       "  '',\n",
       "  'Choose the doorway that starts you on your magical journey into  MURDERLAND !\\n'],\n",
       " ['2',\n",
       "  '\"murderland\"',\n",
       "  '3',\n",
       "  'johnny',\n",
       "  '',\n",
       "  \"I didn't think he'd make it past Scraps.\\n\"],\n",
       " ['3',\n",
       "  '\"murderland\"',\n",
       "  '4',\n",
       "  'bruce',\n",
       "  '2',\n",
       "  \"Let's just see if he can make it into round two....\\n\"],\n",
       " ['4', '\"murderland\"', '5', 'bruce', '', \"Don't.\\n\"]]"
      ]
     },
     "execution_count": 81,
     "metadata": {},
     "output_type": "execute_result"
    }
   ],
   "source": [
    "values_in_first_five_lines"
   ]
  },
  {
   "cell_type": "code",
   "execution_count": 82,
   "metadata": {},
   "outputs": [],
   "source": [
    "# Define a fields in a line for fields extraction\n",
    "MOVIE_LINES_FIELDS = [\"LINE_ID\", \"MOVIE_TITLE\", \"MOVIE_LINE_NR\", \"CHARACTER\", \"REPLY_TO_LINE_ID\", \"TEXT\"]"
   ]
  },
  {
   "cell_type": "code",
   "execution_count": 83,
   "metadata": {},
   "outputs": [
    {
     "name": "stdout",
     "output_type": "stream",
     "text": [
      "LINE_ID             MOVIE_TITLE         MOVIE_LINE_NR       CHARACTER           REPLY_TO_LINE_ID    TEXT                \n",
      "0                   \"murderland\"        1                   announcer                               Ladies and gentlemen, the official mascot of Murderland.... Scraps the Dog !\n",
      "1                   \"murderland\"        2                   announcer                               Choose the doorway that starts you on your magical journey into  MURDERLAND !\n",
      "2                   \"murderland\"        3                   johnny                                  I didn't think he'd make it past Scraps.\n",
      "3                   \"murderland\"        4                   bruce               2                   Let's just see if he can make it into round two....\n",
      "4                   \"murderland\"        5                   bruce                                   Don't.\n",
      "             "
     ]
    }
   ],
   "source": [
    "# Extract fileds in each line\n",
    "for field in MOVIE_LINES_FIELDS:\n",
    "    print(f'{field:<20}', end='')\n",
    "print()\n",
    "\n",
    "for values in values_in_first_five_lines:\n",
    "    for v in values:\n",
    "        print(f'{v:<20}', end='')        "
   ]
  },
  {
   "cell_type": "code",
   "execution_count": 84,
   "metadata": {},
   "outputs": [],
   "source": [
    "# Create a dictionary to save fields in the first line\n",
    "line_obj = {}\n",
    "\n",
    "for i, field in enumerate(MOVIE_LINES_FIELDS):\n",
    "    line_obj[field] = values_in_first_five_lines[0][i]"
   ]
  },
  {
   "cell_type": "code",
   "execution_count": 85,
   "metadata": {},
   "outputs": [
    {
     "data": {
      "text/plain": [
       "{'LINE_ID': '0',\n",
       " 'MOVIE_TITLE': '\"murderland\"',\n",
       " 'MOVIE_LINE_NR': '1',\n",
       " 'CHARACTER': 'announcer',\n",
       " 'REPLY_TO_LINE_ID': '',\n",
       " 'TEXT': 'Ladies and gentlemen, the official mascot of Murderland.... Scraps the Dog !\\n'}"
      ]
     },
     "execution_count": 85,
     "metadata": {},
     "output_type": "execute_result"
    }
   ],
   "source": [
    "line_obj"
   ]
  },
  {
   "cell_type": "code",
   "execution_count": 86,
   "metadata": {},
   "outputs": [],
   "source": [
    "# Create a dictionary to contain all dictionaries for each line\n",
    "line = {}\n",
    "\n",
    "for values in values_in_first_five_lines:\n",
    "    line_obj = {}\n",
    "    for i, field in enumerate(MOVIE_LINES_FIELDS):\n",
    "        line_obj[field] = values[i]\n",
    "    \n",
    "    line[line_obj['LINE_ID']] = line_obj # Use LINE_ID to mark each line of script fields"
   ]
  },
  {
   "cell_type": "code",
   "execution_count": 87,
   "metadata": {},
   "outputs": [
    {
     "data": {
      "text/plain": [
       "{'0': {'LINE_ID': '0',\n",
       "  'MOVIE_TITLE': '\"murderland\"',\n",
       "  'MOVIE_LINE_NR': '1',\n",
       "  'CHARACTER': 'announcer',\n",
       "  'REPLY_TO_LINE_ID': '',\n",
       "  'TEXT': 'Ladies and gentlemen, the official mascot of Murderland.... Scraps the Dog !\\n'},\n",
       " '1': {'LINE_ID': '1',\n",
       "  'MOVIE_TITLE': '\"murderland\"',\n",
       "  'MOVIE_LINE_NR': '2',\n",
       "  'CHARACTER': 'announcer',\n",
       "  'REPLY_TO_LINE_ID': '',\n",
       "  'TEXT': 'Choose the doorway that starts you on your magical journey into  MURDERLAND !\\n'},\n",
       " '2': {'LINE_ID': '2',\n",
       "  'MOVIE_TITLE': '\"murderland\"',\n",
       "  'MOVIE_LINE_NR': '3',\n",
       "  'CHARACTER': 'johnny',\n",
       "  'REPLY_TO_LINE_ID': '',\n",
       "  'TEXT': \"I didn't think he'd make it past Scraps.\\n\"},\n",
       " '3': {'LINE_ID': '3',\n",
       "  'MOVIE_TITLE': '\"murderland\"',\n",
       "  'MOVIE_LINE_NR': '4',\n",
       "  'CHARACTER': 'bruce',\n",
       "  'REPLY_TO_LINE_ID': '2',\n",
       "  'TEXT': \"Let's just see if he can make it into round two....\\n\"},\n",
       " '4': {'LINE_ID': '4',\n",
       "  'MOVIE_TITLE': '\"murderland\"',\n",
       "  'MOVIE_LINE_NR': '5',\n",
       "  'CHARACTER': 'bruce',\n",
       "  'REPLY_TO_LINE_ID': '',\n",
       "  'TEXT': \"Don't.\\n\"}}"
      ]
     },
     "execution_count": 87,
     "metadata": {},
     "output_type": "execute_result"
    }
   ],
   "source": [
    "line"
   ]
  },
  {
   "cell_type": "code",
   "execution_count": 88,
   "metadata": {},
   "outputs": [],
   "source": [
    "def load_lines(file_name, fields):\n",
    "    \"\"\"\n",
    "    A function to create a dictionary in the above shown format covering all lines in the corpus\n",
    "\n",
    "    Args:\n",
    "        file_name(str): file to read\n",
    "        fields(set<str>): fileds to extract\n",
    "    Return:\n",
    "        dict<dict<str>>: the extracted fileds for each line\n",
    "    \"\"\"\n",
    "    lines = {}\n",
    "\n",
    "    # Check the LINE_ID is included in the fields set\n",
    "    assert 'LINE_ID' in fields, \"The given fields set does not contain 'LINE_ID'\"\n",
    "\n",
    "    with open(file_name, 'r', encoding='iso-8859-1') as f:\n",
    "        for line in f:\n",
    "            # Convert the line into a values list according to \n",
    "            # the spliting result \n",
    "            values = line.split(\" +++$+++ \")\n",
    "\n",
    "            line_obj = {}\n",
    "            for i, field in enumerate(fields):\n",
    "                line_obj[field] = values[i]\n",
    "            \n",
    "            lines[line_obj['LINE_ID']] = line_obj\n",
    "    \n",
    "    return lines\n",
    "            "
   ]
  },
  {
   "cell_type": "code",
   "execution_count": 89,
   "metadata": {},
   "outputs": [],
   "source": [
    "lines = load_lines('data/moviequotes.scripts.txt', MOVIE_LINES_FIELDS)"
   ]
  },
  {
   "cell_type": "code",
   "execution_count": 90,
   "metadata": {},
   "outputs": [
    {
     "data": {
      "text/plain": [
       "{'LINE_ID': '0',\n",
       " 'MOVIE_TITLE': '\"murderland\"',\n",
       " 'MOVIE_LINE_NR': '1',\n",
       " 'CHARACTER': 'announcer',\n",
       " 'REPLY_TO_LINE_ID': '',\n",
       " 'TEXT': 'Ladies and gentlemen, the official mascot of Murderland.... Scraps the Dog !\\n'}"
      ]
     },
     "execution_count": 90,
     "metadata": {},
     "output_type": "execute_result"
    }
   ],
   "source": [
    "lines['0']"
   ]
  },
  {
   "cell_type": "code",
   "execution_count": null,
   "metadata": {},
   "outputs": [],
   "source": []
  }
 ],
 "metadata": {
  "kernelspec": {
   "display_name": "Python 3.7.12 ('pytorch')",
   "language": "python",
   "name": "python3"
  },
  "language_info": {
   "codemirror_mode": {
    "name": "ipython",
    "version": 3
   },
   "file_extension": ".py",
   "mimetype": "text/x-python",
   "name": "python",
   "nbconvert_exporter": "python",
   "pygments_lexer": "ipython3",
   "version": "3.7.12"
  },
  "orig_nbformat": 4,
  "vscode": {
   "interpreter": {
    "hash": "0f4b453dc89721b7a9110353965dbaa38d078ee3035ce069d0d0747aece85aca"
   }
  }
 },
 "nbformat": 4,
 "nbformat_minor": 2
}
