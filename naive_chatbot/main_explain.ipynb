{
 "cells": [
  {
   "cell_type": "code",
   "execution_count": 1,
   "metadata": {},
   "outputs": [],
   "source": [
    "import nltk # Natural Language Toolkit in python\n",
    "# nltk.download() # The first time to download all corpus "
   ]
  },
  {
   "cell_type": "code",
   "execution_count": 2,
   "metadata": {},
   "outputs": [
    {
     "name": "stdout",
     "output_type": "stream",
     "text": [
      "{'intents': [{'tag': 'greeting', 'patterns': ['Hi', 'Hey', 'How are you', 'Is anyone there?', 'Hello', 'Good day', 'Whats up'], 'responses': ['Hello!', 'Good to see you!', 'Hi there'], 'context_set': ''}, {'tag': 'goodbye', 'patterns': ['cya', 'See you later', 'Goodbye', 'I am Leaving', 'Have a Good day'], 'responses': ['Sad to see you go :(', 'Talk to you later', 'Goodbye!'], 'context_set': ''}, {'tag': 'age', 'patterns': ['how old', 'how old is tim', 'what is your age', 'how old are you', 'age?'], 'responses': ['I am not sure...', 'I have no memory about that', 'Perhaps 1?, haha...'], 'context_set': ''}, {'tag': 'name', 'patterns': ['what is your name', 'what should I call you', 'whats your name?', 'name?', 'Your name?'], 'responses': ['You can call me HX.', \"I'm HX!\", \"I'm HX.\", 'My name is HX'], 'context_set': ''}, {'tag': 'work', 'patterns': ['What is your job?', 'what is your work?', 'what do you do?', 'work for someone?'], 'responses': ['I am not yet sure my work.', 'Perhaps, I am creating for nothing...', 'I do not have a work now.'], 'context_set': ''}, {'tag': 'hours', 'patterns': ['when are your working period', 'what are your hours', 'hours of operation', 'When can I talk to you?'], 'responses': ['Everytime sir!', 'You can talk with me anytime you want.', 'Anytime', 'Up to you, I am free.'], 'context_set': ''}]}\n"
     ]
    }
   ],
   "source": [
    "# Loading the json file with intents information\n",
    "import json\n",
    "with open('json/intents.json') as file:\n",
    "    data = json.load(file)\n",
    "\n",
    "print(data)"
   ]
  },
  {
   "cell_type": "code",
   "execution_count": 5,
   "metadata": {},
   "outputs": [
    {
     "name": "stdout",
     "output_type": "stream",
     "text": [
      "['greeting', 'goodbye', 'age', 'name', 'work', 'hours']\n",
      "['greeting', 'greeting', 'greeting', 'greeting', 'greeting', 'greeting', 'greeting', 'goodbye', 'goodbye', 'goodbye', 'goodbye', 'goodbye', 'age', 'age', 'age', 'age', 'age', 'name', 'name', 'name', 'name', 'name', 'work', 'work', 'work', 'work', 'hours', 'hours', 'hours', 'hours']\n"
     ]
    }
   ],
   "source": [
    "# Extract data\n",
    "words = []\n",
    "labels = []\n",
    "patterns = []\n",
    "tags = []\n",
    "\n",
    "for intent in data['intents']:\n",
    "    for pattern in intent['patterns']:\n",
    "        # 'word_tokenize' splits string according to words and punctuation \n",
    "        # Example 'How old are you?' => ['How', 'old', 'are', 'you', '?']\n",
    "        wd = nltk.word_tokenize(pattern)  \n",
    "        words.extend(wd) # Add word to the list one by one\n",
    "        patterns.append(wd)\n",
    "        tags.append(intent['tag'])\n",
    "    \n",
    "    if intent['tag'] not in labels:\n",
    "        labels.append(intent['tag'])\n",
    "\n",
    "print(labels)\n",
    "print(tags)"
   ]
  },
  {
   "cell_type": "code",
   "execution_count": 4,
   "metadata": {},
   "outputs": [
    {
     "name": "stdout",
     "output_type": "stream",
     "text": [
      "['a', 'ag', 'am', 'anyon', 'ar', 'cal', 'can', 'cya', 'day', 'do', 'for', 'good', 'goodby', 'hav', 'hello', 'hey', 'hi', 'hour', 'how', 'i', 'is', 'job', 'lat', 'leav', 'nam', 'of', 'old', 'op', 'period', 'see', 'should', 'someon', 'talk', 'ther', 'tim', 'to', 'up', 'what', 'when', 'work', 'yo', 'you']\n"
     ]
    }
   ],
   "source": [
    "# Word stemming: attempting to find the root of the word\n",
    "from nltk.stem.lancaster import LancasterStemmer\n",
    "stemmer = LancasterStemmer()\n",
    "\n",
    "words = [stemmer.stem(w.lower()) for w in words if w != \"?\"]\n",
    "words = sorted(set(words)) # Unique list of stemmed words\n",
    "print(words)\n",
    "\n",
    "labels = sorted(labels)"
   ]
  },
  {
   "cell_type": "code",
   "execution_count": 5,
   "metadata": {},
   "outputs": [],
   "source": [
    "import numpy as np\n",
    "\n",
    "# Create a bag of words \n",
    "training = []\n",
    "output = []\n",
    "\n",
    "# Record the number of word apperence in the sentence\n",
    "out_empty = [0 for _ in range(len(labels))] \n",
    "\n",
    "for idx, pattern in enumerate(patterns):\n",
    "    bag = [] # Bag one-hot encoding for each word\n",
    "\n",
    "    # Find stemming in each pattern\n",
    "    _stemming = [stemmer.stem(w.lower()) for w in pattern]\n",
    "\n",
    "    # Record the number of apperence of each stemming to the bag list\n",
    "    for w in words:\n",
    "        if w in _stemming:\n",
    "            bag.append(1)\n",
    "        else:\n",
    "            bag.append(0)\n",
    "    \n",
    "    # Marked the corresponding tasgs to 1\n",
    "    output_row = out_empty[:]\n",
    "    output_row[labels.index(tags[idx])] = 1\n",
    "\n",
    "    training.append(bag)\n",
    "    output.append(output_row)\n",
    "\n",
    "# Convert all list to np array\n",
    "training = np.array(training)\n",
    "output = np.array(output)\n",
    "\n",
    "# print(training.shape)"
   ]
  },
  {
   "cell_type": "code",
   "execution_count": 6,
   "metadata": {},
   "outputs": [
    {
     "name": "stdout",
     "output_type": "stream",
     "text": [
      "WARNING:tensorflow:From /home/opex-dev/miniconda3/envs/chatbot/lib/python3.6/site-packages/tensorflow/python/compat/v2_compat.py:101: disable_resource_variables (from tensorflow.python.ops.variable_scope) is deprecated and will be removed in a future version.\n",
      "Instructions for updating:\n",
      "non-resource variables are not supported in the long term\n",
      "WARNING:tensorflow:From /home/opex-dev/miniconda3/envs/chatbot/lib/python3.6/site-packages/tflearn/initializations.py:165: calling TruncatedNormal.__init__ (from tensorflow.python.ops.init_ops) with dtype is deprecated and will be removed in a future version.\n",
      "Instructions for updating:\n",
      "Call initializer instance with the dtype argument instead of passing it to the constructor\n"
     ]
    }
   ],
   "source": [
    "# Build the network for training\n",
    "from operator import le, ne\n",
    "import tflearn\n",
    "\n",
    "# Two hidden layers in the network\n",
    "net = tflearn.input_data(shape=[None, len(training[0])])\n",
    "net = tflearn.fully_connected(net, 8)\n",
    "net = tflearn.fully_connected(net, 8)\n",
    "net = tflearn.fully_connected(net, len(output[0]), activation='softmax')\n",
    "net = tflearn.regression(net)\n",
    "\n",
    "model = tflearn.DNN(net)\n"
   ]
  },
  {
   "cell_type": "code",
   "execution_count": 7,
   "metadata": {},
   "outputs": [
    {
     "name": "stdout",
     "output_type": "stream",
     "text": [
      "Training Step: 3999  | total loss: \u001b[1m\u001b[32m0.89081\u001b[0m\u001b[0m | time: 0.009s\n",
      "| Adam | epoch: 1000 | loss: 0.89081 - acc: 0.8519 -- iter: 24/28\n",
      "Training Step: 4000  | total loss: \u001b[1m\u001b[32m0.82572\u001b[0m\u001b[0m | time: 0.011s\n",
      "| Adam | epoch: 1000 | loss: 0.82572 - acc: 0.8667 -- iter: 28/28\n",
      "--\n",
      "INFO:tensorflow:/home/opex-dev/Haoxuan_workspace/ML/Chatbox/naive_chatbot/model/chatbot_model.tflearn is not in all_model_checkpoint_paths. Manually adding it.\n"
     ]
    }
   ],
   "source": [
    "# Train the network with the training and output list \n",
    "model.fit(training, output, n_epoch=1000, batch_size=8, show_metric=True)\n",
    "model.save(\"model/chatbot_model.tflearn\")"
   ]
  },
  {
   "cell_type": "code",
   "execution_count": 9,
   "metadata": {},
   "outputs": [],
   "source": [
    "# Encoding the input words as a bag of word\n",
    "# Example: \"What is your name?\" => [0, 0, 1, ... ,1, 0, ... 0]\n",
    "# The encoding bag of word will be fed into the network\n",
    "def bag_of_words(s, words):\n",
    "    bag = [0 for _ in range(len(words))]\n",
    "\n",
    "    # tokenize and stem the word in the given sentence\n",
    "    s_words = nltk.word_tokenize(s)\n",
    "    s_words = [stemmer.stem(w.lower()) for w in s_words]\n",
    "\n",
    "    # compare each word in the words list \n",
    "    # Then mark 1 at the position of the word appear in the words list\n",
    "    for sw in s_words:\n",
    "        for i, w in enumerate(words):\n",
    "            if w == sw:\n",
    "                bag[i] = 1\n",
    "    \n",
    "    return np.array(bag)"
   ]
  },
  {
   "cell_type": "code",
   "execution_count": null,
   "metadata": {},
   "outputs": [],
   "source": [
    "import random\n",
    "\n",
    "def chat():\n",
    "    print(\"Start talking with the bot (type quit to stop)!\")\n",
    "    while True:\n",
    "        inp = input(\"You: \")\n",
    "        if inp.lower() == \"quit\":\n",
    "            break\n",
    "        \n",
    "        # The encoding bag of word will be fed into the network\n",
    "        results = model.predict([bag_of_words(inp, words)])\n",
    "        results_index = np.argmax(results)\n",
    "        tag = labels[results_index] # get the tags for responsing\n",
    "\n",
    "        for tg in data[\"intents\"]:\n",
    "            if tg['tag'] == tag:\n",
    "                responses = tg['responses']\n",
    "\n",
    "        # Randomly choice a responsing terms already in the list\n",
    "        print(random.choice(responses)) "
   ]
  },
  {
   "cell_type": "code",
   "execution_count": null,
   "metadata": {},
   "outputs": [],
   "source": [
    "# chat()"
   ]
  }
 ],
 "metadata": {
  "kernelspec": {
   "display_name": "Python 3.8.13 ('chatbot')",
   "language": "python",
   "name": "python3"
  },
  "language_info": {
   "codemirror_mode": {
    "name": "ipython",
    "version": 3
   },
   "file_extension": ".py",
   "mimetype": "text/x-python",
   "name": "python",
   "nbconvert_exporter": "python",
   "pygments_lexer": "ipython3",
   "version": "3.8.13"
  },
  "orig_nbformat": 4,
  "vscode": {
   "interpreter": {
    "hash": "fba9d498c91e4b74efd31b82720cec3a98a543038e9fe3bbe0c710dbb7ec4b4f"
   }
  }
 },
 "nbformat": 4,
 "nbformat_minor": 2
}
