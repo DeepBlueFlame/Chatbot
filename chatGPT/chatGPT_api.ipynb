{
 "cells": [
  {
   "cell_type": "code",
   "execution_count": null,
   "metadata": {},
   "outputs": [],
   "source": []
  }
 ],
 "metadata": {
  "kernelspec": {
   "display_name": "pytorch",
   "language": "python",
   "name": "python3"
  },
  "language_info": {
   "name": "python",
   "version": "3.7.12 | packaged by conda-forge | (default, Oct 26 2021, 05:35:01) [MSC v.1916 64 bit (AMD64)]"
  },
  "orig_nbformat": 4,
  "vscode": {
   "interpreter": {
    "hash": "0f4b453dc89721b7a9110353965dbaa38d078ee3035ce069d0d0747aece85aca"
   }
  }
 },
 "nbformat": 4,
 "nbformat_minor": 2
}
